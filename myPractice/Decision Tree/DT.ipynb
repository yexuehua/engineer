{
 "cells": [
  {
   "cell_type": "code",
   "execution_count": null,
   "id": "063f9406",
   "metadata": {},
   "outputs": [],
   "source": [
    "import numpy as np\n",
    "import pandas as pd\n",
    "import matplotlib.pyplot as plt\n",
    "%matplotlib inline\n",
    "\n",
    "from sklearn.datasets import load_iris\n",
    "from sklearn.model_selection import train_test_split\n",
    "\n",
    "from collections import Counter\n",
    "import math\n",
    "from math import log\n",
    "\n",
    "import pprint"
   ]
  },
  {
   "cell_type": "markdown",
   "id": "4e67a8d8",
   "metadata": {},
   "source": [
    "- ID3(based on information gain)\n",
    "- C4.5(based on information gain ratio)\n",
    "- CART(gini index)"
   ]
  },
  {
   "cell_type": "markdown",
   "id": "8aa6dc12",
   "metadata": {},
   "source": [
    "#### entropy: $H(x) = -\\sum_{i=1}^{n}p_i\\log{p_i}$\n",
    "#### conditional entropy: \n",
    "$H(X|Y)=\\sum{P(X|Y)}\\log{P(X|Y)}$\n",
    "       =$\\sum{p(y)H(X|Y=y)}$\n"
   ]
  },
  {
   "cell_type": "code",
   "execution_count": 27,
   "id": "68744a91",
   "metadata": {},
   "outputs": [],
   "source": [
    "def create_data():\n",
    "    dataSet = [[1, 1, 'yes'],\n",
    "           [1, 1, 'yes'],\n",
    "           [1, 0, 'no'],\n",
    "           [0, 1, 'no'],\n",
    "           [0, 1, 'no']]\n",
    "    labels = ['no surfacing', 'flippers']\n",
    "    return dataSet, labels"
   ]
  },
  {
   "cell_type": "code",
   "execution_count": 28,
   "id": "8e2d2e96",
   "metadata": {},
   "outputs": [],
   "source": [
    "datasets, labels = create_data()"
   ]
  },
  {
   "cell_type": "code",
   "execution_count": 4,
   "id": "d1f71876",
   "metadata": {},
   "outputs": [],
   "source": [
    "train_data = pd.DataFrame(datasets, columns=labels)"
   ]
  },
  {
   "cell_type": "code",
   "execution_count": 5,
   "id": "0d3fcdb2",
   "metadata": {},
   "outputs": [
    {
     "data": {
      "text/html": [
       "<div>\n",
       "<style scoped>\n",
       "    .dataframe tbody tr th:only-of-type {\n",
       "        vertical-align: middle;\n",
       "    }\n",
       "\n",
       "    .dataframe tbody tr th {\n",
       "        vertical-align: top;\n",
       "    }\n",
       "\n",
       "    .dataframe thead th {\n",
       "        text-align: right;\n",
       "    }\n",
       "</style>\n",
       "<table border=\"1\" class=\"dataframe\">\n",
       "  <thead>\n",
       "    <tr style=\"text-align: right;\">\n",
       "      <th></th>\n",
       "      <th>年龄</th>\n",
       "      <th>有工作</th>\n",
       "      <th>有自己的房子</th>\n",
       "      <th>信贷情况</th>\n",
       "      <th>类别</th>\n",
       "    </tr>\n",
       "  </thead>\n",
       "  <tbody>\n",
       "    <tr>\n",
       "      <th>0</th>\n",
       "      <td>青年</td>\n",
       "      <td>否</td>\n",
       "      <td>否</td>\n",
       "      <td>一般</td>\n",
       "      <td>否</td>\n",
       "    </tr>\n",
       "    <tr>\n",
       "      <th>1</th>\n",
       "      <td>青年</td>\n",
       "      <td>否</td>\n",
       "      <td>否</td>\n",
       "      <td>好</td>\n",
       "      <td>否</td>\n",
       "    </tr>\n",
       "    <tr>\n",
       "      <th>2</th>\n",
       "      <td>青年</td>\n",
       "      <td>是</td>\n",
       "      <td>否</td>\n",
       "      <td>好</td>\n",
       "      <td>是</td>\n",
       "    </tr>\n",
       "    <tr>\n",
       "      <th>3</th>\n",
       "      <td>青年</td>\n",
       "      <td>是</td>\n",
       "      <td>是</td>\n",
       "      <td>一般</td>\n",
       "      <td>是</td>\n",
       "    </tr>\n",
       "    <tr>\n",
       "      <th>4</th>\n",
       "      <td>青年</td>\n",
       "      <td>否</td>\n",
       "      <td>否</td>\n",
       "      <td>一般</td>\n",
       "      <td>否</td>\n",
       "    </tr>\n",
       "    <tr>\n",
       "      <th>5</th>\n",
       "      <td>中年</td>\n",
       "      <td>否</td>\n",
       "      <td>否</td>\n",
       "      <td>一般</td>\n",
       "      <td>否</td>\n",
       "    </tr>\n",
       "    <tr>\n",
       "      <th>6</th>\n",
       "      <td>中年</td>\n",
       "      <td>否</td>\n",
       "      <td>否</td>\n",
       "      <td>好</td>\n",
       "      <td>否</td>\n",
       "    </tr>\n",
       "    <tr>\n",
       "      <th>7</th>\n",
       "      <td>中年</td>\n",
       "      <td>是</td>\n",
       "      <td>是</td>\n",
       "      <td>好</td>\n",
       "      <td>是</td>\n",
       "    </tr>\n",
       "    <tr>\n",
       "      <th>8</th>\n",
       "      <td>中年</td>\n",
       "      <td>否</td>\n",
       "      <td>是</td>\n",
       "      <td>非常好</td>\n",
       "      <td>是</td>\n",
       "    </tr>\n",
       "    <tr>\n",
       "      <th>9</th>\n",
       "      <td>中年</td>\n",
       "      <td>否</td>\n",
       "      <td>是</td>\n",
       "      <td>非常好</td>\n",
       "      <td>是</td>\n",
       "    </tr>\n",
       "    <tr>\n",
       "      <th>10</th>\n",
       "      <td>老年</td>\n",
       "      <td>否</td>\n",
       "      <td>是</td>\n",
       "      <td>非常好</td>\n",
       "      <td>是</td>\n",
       "    </tr>\n",
       "    <tr>\n",
       "      <th>11</th>\n",
       "      <td>老年</td>\n",
       "      <td>否</td>\n",
       "      <td>是</td>\n",
       "      <td>好</td>\n",
       "      <td>是</td>\n",
       "    </tr>\n",
       "    <tr>\n",
       "      <th>12</th>\n",
       "      <td>老年</td>\n",
       "      <td>是</td>\n",
       "      <td>否</td>\n",
       "      <td>好</td>\n",
       "      <td>是</td>\n",
       "    </tr>\n",
       "    <tr>\n",
       "      <th>13</th>\n",
       "      <td>老年</td>\n",
       "      <td>是</td>\n",
       "      <td>否</td>\n",
       "      <td>非常好</td>\n",
       "      <td>是</td>\n",
       "    </tr>\n",
       "    <tr>\n",
       "      <th>14</th>\n",
       "      <td>老年</td>\n",
       "      <td>否</td>\n",
       "      <td>否</td>\n",
       "      <td>一般</td>\n",
       "      <td>否</td>\n",
       "    </tr>\n",
       "  </tbody>\n",
       "</table>\n",
       "</div>"
      ],
      "text/plain": [
       "    年龄 有工作 有自己的房子 信贷情况 类别\n",
       "0   青年   否      否   一般  否\n",
       "1   青年   否      否    好  否\n",
       "2   青年   是      否    好  是\n",
       "3   青年   是      是   一般  是\n",
       "4   青年   否      否   一般  否\n",
       "5   中年   否      否   一般  否\n",
       "6   中年   否      否    好  否\n",
       "7   中年   是      是    好  是\n",
       "8   中年   否      是  非常好  是\n",
       "9   中年   否      是  非常好  是\n",
       "10  老年   否      是  非常好  是\n",
       "11  老年   否      是    好  是\n",
       "12  老年   是      否    好  是\n",
       "13  老年   是      否  非常好  是\n",
       "14  老年   否      否   一般  否"
      ]
     },
     "execution_count": 5,
     "metadata": {},
     "output_type": "execute_result"
    }
   ],
   "source": [
    "train_data"
   ]
  },
  {
   "cell_type": "code",
   "execution_count": 10,
   "id": "c6c6a342",
   "metadata": {},
   "outputs": [],
   "source": [
    "def calc_shannon_ent(dataset):\n",
    "    num_entries = len(dataset)\n",
    "    label_count = {}\n",
    "    for feat in dataset:\n",
    "        current_label = feat[-1]\n",
    "        if current_label not in label_count:\n",
    "            label_count[current_label] = 0\n",
    "        label_count[current_label] +=1\n",
    "    shannon_ent = 0\n",
    "    for num in label_count.values():\n",
    "        prob_i = num/num_entries\n",
    "        shannon_ent -= prob_i * log(prob_i, 2)\n",
    "    return shannon_ent\n",
    "\n"
   ]
  },
  {
   "cell_type": "code",
   "execution_count": 11,
   "id": "eccbfb78",
   "metadata": {},
   "outputs": [
    {
     "data": {
      "text/plain": [
       "0.9709505944546686"
      ]
     },
     "execution_count": 11,
     "metadata": {},
     "output_type": "execute_result"
    }
   ],
   "source": [
    "calc_shannon_ent(datasets)"
   ]
  },
  {
   "cell_type": "code",
   "execution_count": 25,
   "id": "1016eb68",
   "metadata": {},
   "outputs": [],
   "source": [
    "def split_dataset(dataset, axis, value):\n",
    "    ret_dataset = []\n",
    "    for feat in dataset:\n",
    "        if feat[axis] == value:\n",
    "            reduced_feat = feat[:axis]\n",
    "            reduced_feat.extend(feat[axis+1:])\n",
    "            ret_dataset.append(reduced_feat)\n",
    "    return ret_dataset\n",
    "\n",
    "def choose_best_feat_to_split(dataset):\n",
    "    num_feat = len(dataset[0])-1\n",
    "    base_ent = calc_shannon_ent(dataset)\n",
    "    best_info_gain = 0\n",
    "    best_feat = -1\n",
    "    for i in range(num_feat):\n",
    "        feat_list = [example[-1] for example in dataset]\n",
    "        unique_values = set(feat_list)\n",
    "        new_ent = 0\n",
    "        for value in unique_values:\n",
    "            subdataset = split_dataset(dataset, i, value)\n",
    "            prob_i = len(subdataset)/len(dataset)\n",
    "            new_ent += prob_i * calc_shannon_ent(subdataset)\n",
    "        info_gain = base_ent - new_ent\n",
    "        \n",
    "        if(info_gain > best_info_gain):\n",
    "            best_info_gain = info_gain\n",
    "            best_feat = i\n",
    "    return best_feat\n",
    "            "
   ]
  },
  {
   "cell_type": "code",
   "execution_count": 13,
   "id": "15df01f4",
   "metadata": {},
   "outputs": [],
   "source": [
    "def majority_cnt(class_list):\n",
    "    class_count = {}\n",
    "    for vote in class_list:\n",
    "        if vote not in class_count.keys():\n",
    "            class_count[vote] = 0\n",
    "        class_count[vote] += 1\n",
    "    sorted_class_count = sorted(class_count.items(), key=lambda item:item[1])\n",
    "    return sorted_class_count[0][0]"
   ]
  },
  {
   "cell_type": "code",
   "execution_count": 23,
   "id": "621b3c5d",
   "metadata": {},
   "outputs": [],
   "source": [
    "def create_tree(dataset, labels):\n",
    "    class_list = [example[-1] for example in dataset]\n",
    "    if class_list.count(class_list[0])==len(class_list):\n",
    "        return class_list[0]\n",
    "    if len(dataset[0])==1:\n",
    "        return majority_cnt(class_list)\n",
    "    best_feat = choose_best_feat_to_split(dataset)\n",
    "    best_feat_label = labels[best_feat]\n",
    "    my_tree = {best_feat_label:{}}\n",
    "    del (labels[best_feat])\n",
    "    feat_values = [example[best_feat] for example in dataset]\n",
    "    unique_value = set(feat_values)\n",
    "    for value in unique_value:\n",
    "        sublabels = labels[:]\n",
    "        my_tree[best_feat_label][value] = create_tree(split_dataset(dataset, best_feat, value), sublabels)\n",
    "    return my_tree"
   ]
  },
  {
   "cell_type": "code",
   "execution_count": 29,
   "id": "d18b8cc2",
   "metadata": {},
   "outputs": [
    {
     "data": {
      "text/plain": [
       "{'no surfacing': {0: 'no', 1: {'flippers': {0: 'no', 1: 'yes'}}}}"
      ]
     },
     "execution_count": 29,
     "metadata": {},
     "output_type": "execute_result"
    }
   ],
   "source": [
    "mytree = create_tree(datasets, labels)\n",
    "mytree"
   ]
  },
  {
   "cell_type": "markdown",
   "id": "7a503919",
   "metadata": {},
   "source": [
    "# Another method"
   ]
  },
  {
   "cell_type": "code",
   "execution_count": 9,
   "id": "aa742003",
   "metadata": {},
   "outputs": [],
   "source": [
    "def create_data2():\n",
    "    datasets = [['youth', 'No', 'No', 'average', 'No'],\n",
    "               ['youth', 'No', 'No', 'good', 'No'],\n",
    "               ['youth', 'yes', 'No', 'good', 'yes'],\n",
    "               ['youth', 'yes', 'yes', 'average', 'yes'],\n",
    "               ['youth', 'No', 'No', 'average', 'No'],\n",
    "               ['middle_aged', 'No', 'No', 'average', 'No'],\n",
    "               ['middle_aged', 'No', 'No', 'good', 'No'],\n",
    "               ['middle_aged', 'yes', 'yes', 'good', 'yes'],\n",
    "               ['middle_aged', 'No', 'yes', 'perfect', 'yes'],\n",
    "               ['middle_aged', 'No', 'yes', 'perfect', 'yes'],\n",
    "               ['elder', 'No', 'yes', 'perfect', 'yes'],\n",
    "               ['elder', 'No', 'yes', 'good', 'yes'],\n",
    "               ['elder', 'yes', 'No', 'good', 'yes'],\n",
    "               ['elder', 'yes', 'No', 'perfect', 'yes'],\n",
    "               ['elder', 'No', 'No', 'average', 'No'],\n",
    "               ]\n",
    "    labels = [\"age\", 'work', 'house', 'credit', 'category']\n",
    "    # return dataset and features name\n",
    "    return datasets, labels\n",
    "\n",
    "datasets2, labels2 = create_data2()"
   ]
  },
  {
   "cell_type": "code",
   "execution_count": 10,
   "id": "7d185d73",
   "metadata": {},
   "outputs": [
    {
     "data": {
      "text/html": [
       "<div>\n",
       "<style scoped>\n",
       "    .dataframe tbody tr th:only-of-type {\n",
       "        vertical-align: middle;\n",
       "    }\n",
       "\n",
       "    .dataframe tbody tr th {\n",
       "        vertical-align: top;\n",
       "    }\n",
       "\n",
       "    .dataframe thead th {\n",
       "        text-align: right;\n",
       "    }\n",
       "</style>\n",
       "<table border=\"1\" class=\"dataframe\">\n",
       "  <thead>\n",
       "    <tr style=\"text-align: right;\">\n",
       "      <th></th>\n",
       "      <th>age</th>\n",
       "      <th>work</th>\n",
       "      <th>house</th>\n",
       "      <th>credit</th>\n",
       "      <th>category</th>\n",
       "    </tr>\n",
       "  </thead>\n",
       "  <tbody>\n",
       "    <tr>\n",
       "      <th>0</th>\n",
       "      <td>youth</td>\n",
       "      <td>No</td>\n",
       "      <td>No</td>\n",
       "      <td>average</td>\n",
       "      <td>No</td>\n",
       "    </tr>\n",
       "    <tr>\n",
       "      <th>1</th>\n",
       "      <td>youth</td>\n",
       "      <td>No</td>\n",
       "      <td>No</td>\n",
       "      <td>good</td>\n",
       "      <td>No</td>\n",
       "    </tr>\n",
       "    <tr>\n",
       "      <th>2</th>\n",
       "      <td>youth</td>\n",
       "      <td>yes</td>\n",
       "      <td>No</td>\n",
       "      <td>good</td>\n",
       "      <td>yes</td>\n",
       "    </tr>\n",
       "    <tr>\n",
       "      <th>3</th>\n",
       "      <td>youth</td>\n",
       "      <td>yes</td>\n",
       "      <td>yes</td>\n",
       "      <td>average</td>\n",
       "      <td>yes</td>\n",
       "    </tr>\n",
       "    <tr>\n",
       "      <th>4</th>\n",
       "      <td>youth</td>\n",
       "      <td>No</td>\n",
       "      <td>No</td>\n",
       "      <td>average</td>\n",
       "      <td>No</td>\n",
       "    </tr>\n",
       "    <tr>\n",
       "      <th>5</th>\n",
       "      <td>middle_aged</td>\n",
       "      <td>No</td>\n",
       "      <td>No</td>\n",
       "      <td>average</td>\n",
       "      <td>No</td>\n",
       "    </tr>\n",
       "    <tr>\n",
       "      <th>6</th>\n",
       "      <td>middle_aged</td>\n",
       "      <td>No</td>\n",
       "      <td>No</td>\n",
       "      <td>good</td>\n",
       "      <td>No</td>\n",
       "    </tr>\n",
       "    <tr>\n",
       "      <th>7</th>\n",
       "      <td>middle_aged</td>\n",
       "      <td>yes</td>\n",
       "      <td>yes</td>\n",
       "      <td>good</td>\n",
       "      <td>yes</td>\n",
       "    </tr>\n",
       "    <tr>\n",
       "      <th>8</th>\n",
       "      <td>middle_aged</td>\n",
       "      <td>No</td>\n",
       "      <td>yes</td>\n",
       "      <td>perfect</td>\n",
       "      <td>yes</td>\n",
       "    </tr>\n",
       "    <tr>\n",
       "      <th>9</th>\n",
       "      <td>middle_aged</td>\n",
       "      <td>No</td>\n",
       "      <td>yes</td>\n",
       "      <td>perfect</td>\n",
       "      <td>yes</td>\n",
       "    </tr>\n",
       "    <tr>\n",
       "      <th>10</th>\n",
       "      <td>elder</td>\n",
       "      <td>No</td>\n",
       "      <td>yes</td>\n",
       "      <td>perfect</td>\n",
       "      <td>yes</td>\n",
       "    </tr>\n",
       "    <tr>\n",
       "      <th>11</th>\n",
       "      <td>elder</td>\n",
       "      <td>No</td>\n",
       "      <td>yes</td>\n",
       "      <td>good</td>\n",
       "      <td>yes</td>\n",
       "    </tr>\n",
       "    <tr>\n",
       "      <th>12</th>\n",
       "      <td>elder</td>\n",
       "      <td>yes</td>\n",
       "      <td>No</td>\n",
       "      <td>good</td>\n",
       "      <td>yes</td>\n",
       "    </tr>\n",
       "    <tr>\n",
       "      <th>13</th>\n",
       "      <td>elder</td>\n",
       "      <td>yes</td>\n",
       "      <td>No</td>\n",
       "      <td>perfect</td>\n",
       "      <td>yes</td>\n",
       "    </tr>\n",
       "    <tr>\n",
       "      <th>14</th>\n",
       "      <td>elder</td>\n",
       "      <td>No</td>\n",
       "      <td>No</td>\n",
       "      <td>average</td>\n",
       "      <td>No</td>\n",
       "    </tr>\n",
       "  </tbody>\n",
       "</table>\n",
       "</div>"
      ],
      "text/plain": [
       "            age work house   credit category\n",
       "0         youth   No    No  average       No\n",
       "1         youth   No    No     good       No\n",
       "2         youth  yes    No     good      yes\n",
       "3         youth  yes   yes  average      yes\n",
       "4         youth   No    No  average       No\n",
       "5   middle_aged   No    No  average       No\n",
       "6   middle_aged   No    No     good       No\n",
       "7   middle_aged  yes   yes     good      yes\n",
       "8   middle_aged   No   yes  perfect      yes\n",
       "9   middle_aged   No   yes  perfect      yes\n",
       "10        elder   No   yes  perfect      yes\n",
       "11        elder   No   yes     good      yes\n",
       "12        elder  yes    No     good      yes\n",
       "13        elder  yes    No  perfect      yes\n",
       "14        elder   No    No  average       No"
      ]
     },
     "execution_count": 10,
     "metadata": {},
     "output_type": "execute_result"
    }
   ],
   "source": [
    "train_data2 = pd.DataFrame(datasets2, columns=labels2)\n",
    "train_data2"
   ]
  },
  {
   "cell_type": "code",
   "execution_count": 11,
   "id": "839102a5",
   "metadata": {},
   "outputs": [],
   "source": [
    "label_count = train_data2.groupby([\"category\"])"
   ]
  },
  {
   "cell_type": "code",
   "execution_count": 38,
   "id": "71492dad",
   "metadata": {},
   "outputs": [
    {
     "data": {
      "text/plain": [
       "5"
      ]
     },
     "execution_count": 38,
     "metadata": {},
     "output_type": "execute_result"
    }
   ],
   "source": [
    "train_data2.shape[1]"
   ]
  },
  {
   "cell_type": "code",
   "execution_count": 20,
   "id": "1be1b3b6",
   "metadata": {},
   "outputs": [
    {
     "name": "stdout",
     "output_type": "stream",
     "text": [
      "6\n",
      "9\n"
     ]
    }
   ],
   "source": [
    "for i in label_count[\"category\"].count():\n",
    "    print(i)"
   ]
  },
  {
   "cell_type": "code",
   "execution_count": 21,
   "id": "48c90db7",
   "metadata": {},
   "outputs": [
    {
     "data": {
      "text/plain": [
       "0.9709505944546686"
      ]
     },
     "execution_count": 21,
     "metadata": {},
     "output_type": "execute_result"
    }
   ],
   "source": [
    "# basic entropy\n",
    "def calc_shannon_ent(dataset):\n",
    "    data_length = dataset.shape[0]\n",
    "#     label_count = {}\n",
    "#     for i in range(data_length):\n",
    "#         label = dataset[i][-1]\n",
    "#         if label not in label_count:\n",
    "#             label_count[label] = 0\n",
    "#         label_count[label] += 1\n",
    "    label_count = train_data2.groupby([\"category\"])[\"category\"].count()\n",
    "    ent = -sum([(p/data_length)*log(p/data_length, 2) for p in label_count])\n",
    "    return ent\n",
    "\n",
    "calc_shannon_ent(train_data2)"
   ]
  },
  {
   "cell_type": "code",
   "execution_count": 37,
   "id": "1970ea14",
   "metadata": {},
   "outputs": [
    {
     "data": {
      "text/plain": [
       "1.8420357187994625"
      ]
     },
     "execution_count": 37,
     "metadata": {},
     "output_type": "execute_result"
    }
   ],
   "source": [
    "#conditional entropy\n",
    "def cond_ent(dataset, axis=0):\n",
    "    features_name = dataset.columns[axis]\n",
    "    data_length = dataset.shape[0]\n",
    "    features_count = {}\n",
    "    for i in range(data_length):\n",
    "        feature = dataset[features_name][i]\n",
    "        if feature not in features_count:\n",
    "            features_count[feature] = []\n",
    "        features_count[feature].append(dataset.iloc[i])\n",
    "    ent = -sum([len(p)/data_length*calc_shannon_ent(p) for p in features_count.values()])\n",
    "    return ent\n",
    "cond_ent(train_data2, 0)"
   ]
  },
  {
   "cell_type": "code",
   "execution_count": 42,
   "id": "d110226b",
   "metadata": {},
   "outputs": [
    {
     "name": "stdout",
     "output_type": "stream",
     "text": [
      "featurs(age) - info_gain - -0.871\n",
      "featurs(work) - info_gain - 0.743\n",
      "featurs(house) - info_gain - 0.854\n",
      "featurs(credit) - info_gain - -0.930\n",
      "featurs(category) - info_gain - 0.854\n"
     ]
    },
    {
     "data": {
      "text/plain": [
       "(0.8539580943104372, 2)"
      ]
     },
     "execution_count": 42,
     "metadata": {},
     "output_type": "execute_result"
    }
   ],
   "source": [
    "# information gain\n",
    "def info_gain(ent, cond_ent):\n",
    "    return ent - cond_ent\n",
    "\n",
    "# info-gain train\n",
    "def info_gain_train(dataset):\n",
    "    num_feature = dataset.shape[1]\n",
    "    ent = calc_shannon_ent(dataset)\n",
    "    best_feature = []\n",
    "    for f in range(num_feature):\n",
    "        f_info_gain = info_gain(ent, cond_ent(dataset, axis=f))\n",
    "        best_feature.append(f_info_gain)\n",
    "        print(\"featurs({}) - info_gain - {:.3f}\".format(labels2[f], f_info_gain))\n",
    "    best_feature = np.array(best_feature)\n",
    "    best_value = np.max(best_feature)\n",
    "    best_idx = np.argmax(best_feature)\n",
    "    \n",
    "    return best_value, best_idx\n",
    "\n",
    "info_gain_train(train_data2)\n",
    "        "
   ]
  },
  {
   "cell_type": "code",
   "execution_count": null,
   "id": "e7b1f510",
   "metadata": {},
   "outputs": [],
   "source": [
    "# define a binary tree\n",
    "class Node:\n",
    "    def __init__(self, root=True, label=None, feature_name=None, feature=None):\n",
    "        self.root = root\n",
    "        self.label = label\n",
    "        self.feature_name = feature_name\n",
    "        self.feature = feature\n",
    "        self.tree = {}\n",
    "        self.result = {\"label\":self.label, \"feature\":self.feature, \"tree\":self.tree}\n",
    "        \n",
    "    def __repr__(self):\n",
    "        return \"{}\".format(self.result)\n",
    "    \n",
    "    def add_node(self, val, node):\n",
    "        self.tree[val] = node\n",
    "        \n",
    "    def predict(seld, features):\n",
    "        if self.root is True:\n",
    "            return self.label\n",
    "        return self.tree[features[self.feature]].predict(features)\n",
    "\n",
    "def DTree:\n",
    "    def __init__(self, epsilon=0.1):\n",
    "        self.epsilon = epsilon\n",
    "        self._tree = {}\n",
    "        \n",
    "    #entropy\n",
    "    @staticmetho\n",
    "    def calc_shannon_ent(dataset):\n",
    "        data_length = dataset.shape[0]\n",
    "        #     label_count = {}\n",
    "        #     for i in range(data_length):\n",
    "        #         label = dataset[i][-1]\n",
    "        #         if label not in label_count:\n",
    "        #             label_count[label] = 0\n",
    "        #         label_count[label] += 1\n",
    "        label_count = train_data2.groupby([\"category\"])[\"category\"].count()\n",
    "        ent = -sum([(p/data_length)*log(p/data_length, 2) for p in label_count])\n",
    "        return ent\n",
    "\n",
    "    #conditional entropy\n",
    "    def cond_ent(self, dataset, axis=0):\n",
    "        features_name = dataset.columns[axis]\n",
    "        data_length = dataset.shape[0]\n",
    "        features_count = {}\n",
    "        for i in range(data_length):\n",
    "            feature = dataset[features_name][i]\n",
    "            if feature not in features_count:\n",
    "                features_count[feature] = []\n",
    "            features_count[feature].append(dataset.iloc[i])\n",
    "        ent = -sum([len(p)/data_length*calc_shannon_ent(p) for p in features_count.values()])\n",
    "        return ent\n",
    "    \n",
    "    # information gain\n",
    "    @staticmethod\n",
    "    def info_gain(ent, cond_ent):\n",
    "        return ent - cond_ent\n",
    "        \n",
    "    def info_gain_train(self, dataset):\n",
    "        num_feature = dataset.shape[1]\n",
    "        ent = calc_shannon_ent(dataset)\n",
    "        best_feature = []\n",
    "        for f in range(num_feature):\n",
    "            f_info_gain = info_gain(ent, cond_ent(dataset, axis=f))\n",
    "            best_feature.append(f_info_gain)\n",
    "            print(\"featurs({}) - info_gain - {:.3f}\".format(labels2[f], f_info_gain))\n",
    "        best_feature = np.array(best_feature)\n",
    "        best_value = np.max(best_feature)\n",
    "        best_idx = np.argmax(best_feature)\n",
    "\n",
    "        return best_value\n"
   ]
  }
 ],
 "metadata": {
  "kernelspec": {
   "display_name": "ML",
   "language": "python",
   "name": "python3"
  },
  "language_info": {
   "codemirror_mode": {
    "name": "ipython",
    "version": 3
   },
   "file_extension": ".py",
   "mimetype": "text/x-python",
   "name": "python",
   "nbconvert_exporter": "python",
   "pygments_lexer": "ipython3",
   "version": "3.8.0"
  }
 },
 "nbformat": 4,
 "nbformat_minor": 5
}
