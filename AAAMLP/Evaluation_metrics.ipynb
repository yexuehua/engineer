{
 "cells": [
  {
   "cell_type": "code",
   "execution_count": 1,
   "metadata": {},
   "outputs": [
    {
     "name": "stdout",
     "output_type": "stream",
     "text": [
      "0.625\n"
     ]
    }
   ],
   "source": [
    "from sklearn import metrics\n",
    "s1 = [0,1,1,1,0,0,0,1]\n",
    "t1 = [0,1,0,1,0,1,0,0]\n",
    "acc = metrics.accuracy_score(s1, t1)\n",
    "print(acc)"
   ]
  },
  {
   "cell_type": "code",
   "execution_count": 2,
   "metadata": {},
   "outputs": [
    {
     "name": "stdout",
     "output_type": "stream",
     "text": [
      "0.625\n"
     ]
    }
   ],
   "source": [
    "def acc_handmade(y_true, y_pred):\n",
    "    assert len(y_true)==len(y_pred), \"insure the length is equal\"\n",
    "    counter = 0\n",
    "    for y_t, y_p in zip(y_true, y_pred):\n",
    "        if y_t == y_p:\n",
    "            counter+=1\n",
    "\n",
    "    return counter/len(y_true)\n",
    "print(acc_handmade(s1, t1))"
   ]
  },
  {
   "cell_type": "code",
   "execution_count": 3,
   "metadata": {},
   "outputs": [],
   "source": [
    "def tp_hand(y_true, y_pred):\n",
    "    assert len(y_true)==len(y_pred), \"insure the length is equal\"\n",
    "    count=0\n",
    "    for y_t, y_p in zip(y_true, y_pred):\n",
    "        if (y_t*y_p)==1:\n",
    "            count+=1\n",
    "    return count\n",
    "\n",
    "def tn_hand(y_true, y_pred):\n",
    "    assert len(y_true)==len(y_pred), \"insure the length is equal\"\n",
    "    count=0\n",
    "    for y_t, y_p in zip(y_true, y_pred):\n",
    "        if ((1-y_t)*(1-y_p))==1:\n",
    "            count+=1\n",
    "    return count\n",
    "\n",
    "def fp_hand(y_true, y_pred):\n",
    "    assert len(y_true)==len(y_pred), \"insure the length is equal\"\n",
    "    count=0\n",
    "    for y_t, y_p in zip(y_true, y_pred):\n",
    "        if ((1-y_t)*(y_p))==1:\n",
    "            count+=1\n",
    "    return count\n",
    "\n",
    "def fn_hand(y_true, y_pred):\n",
    "    assert len(y_true)==len(y_pred), \"insure the length is equal\"\n",
    "    count=0\n",
    "    for y_t, y_p in zip(y_true, y_pred):\n",
    "        if ((y_t)*(1-y_p))==1:\n",
    "            count+=1\n",
    "    return count"
   ]
  },
  {
   "cell_type": "code",
   "execution_count": 4,
   "metadata": {},
   "outputs": [
    {
     "name": "stdout",
     "output_type": "stream",
     "text": [
      "2\n",
      "1\n",
      "2\n",
      "3\n"
     ]
    }
   ],
   "source": [
    "print(tp_hand(s1, t1))\n",
    "print(fp_hand(s1, t1))\n",
    "print(fn_hand(s1, t1))\n",
    "print(tn_hand(s1, t1))"
   ]
  },
  {
   "cell_type": "code",
   "execution_count": 5,
   "metadata": {},
   "outputs": [
    {
     "name": "stdout",
     "output_type": "stream",
     "text": [
      "0.6666666666666666\n"
     ]
    }
   ],
   "source": [
    "def precision_hand(y_true, y_pred):\n",
    "    assert len(y_true)==len(y_pred), \"insure the length is equal\"\n",
    "    tp = tp_hand(y_true, y_pred)\n",
    "    fp = fp_hand(y_true, y_pred)\n",
    "    return tp/(tp+fp)\n",
    "print(precision_hand(s1, t1))"
   ]
  },
  {
   "cell_type": "markdown",
   "metadata": {},
   "source": [
    "# Handmade ROC"
   ]
  },
  {
   "cell_type": "code",
   "execution_count": 6,
   "metadata": {},
   "outputs": [
    {
     "data": {
      "image/png": "[encoded data removed]",
      "text/plain": [
       "<Figure size 504x504 with 1 Axes>"
      ]
     },
     "metadata": {
      "needs_background": "light"
     },
     "output_type": "display_data"
    }
   ],
   "source": [
    "#recall\n",
    "def tpr_hand(y_true, y_pred):\n",
    "    tp = tp_hand(y_true, y_pred)\n",
    "    fn = fn_hand(y_true, y_pred)\n",
    "\n",
    "    return tp/(tp+fn)\n",
    "\n",
    "# 1-specificity\n",
    "def fpr_hand(y_true, y_pred):\n",
    "    fp = fp_hand(y_true, y_pred)\n",
    "    tn = tn_hand(y_true, y_pred)\n",
    "    return fp/(fp+tn)\n",
    "\n",
    "# Plot ROC\n",
    "import matplotlib.pyplot as plt\n",
    "tpr_list = []\n",
    "fpr_list = []\n",
    "\n",
    "# actual targets\n",
    "y_true = [0, 0, 0, 0, 1, 0, 1, \n",
    " 0, 0, 1, 0, 1, 0, 0, 1]\n",
    "# predicted probabilities of a sample being 1\n",
    "y_pred = [0.1, 0.3, 0.2, 0.6, 0.8, 0.05, \n",
    " 0.9, 0.5, 0.3, 0.66, 0.3, 0.2, \n",
    " 0.85, 0.15, 0.99]\n",
    "# handmade thresholds\n",
    "thresholds = [0, 0.1, 0.2, 0.3, 0.4, 0.5,\n",
    " 0.6, 0.7, 0.8, 0.85, 0.9, 0.99, 1.0]\n",
    "\n",
    "for thresh in thresholds:\n",
    "    tmp_pred = [1 if p>=thresh else 0 for p in y_pred]\n",
    "    tmp_tpr = tpr_hand(y_true, tmp_pred)\n",
    "    tmp_fpr = fpr_hand(y_true, tmp_pred)\n",
    "    tpr_list.append(tmp_tpr)\n",
    "    fpr_list.append(tmp_fpr)\n",
    "\n",
    "\n",
    "plt.figure(figsize=(7,7))\n",
    "plt.fill_between(fpr_list, tpr_list, alpha=0.4)\n",
    "plt.plot(fpr_list, tpr_list, lw=3)\n",
    "plt.xlim(0,1)\n",
    "plt.ylim(0,1)\n",
    "plt.xlabel('FPR')\n",
    "plt.ylabel('TPR')\n",
    "plt.show()"
   ]
  },
  {
   "cell_type": "markdown",
   "metadata": {},
   "source": [
    "## log loss"
   ]
  },
  {
   "cell_type": "code",
   "execution_count": 8,
   "metadata": {},
   "outputs": [
    {
     "data": {
      "text/plain": [
       "0.49882711861432294"
      ]
     },
     "execution_count": 8,
     "metadata": {},
     "output_type": "execute_result"
    }
   ],
   "source": [
    "import numpy as np\n",
    "\n",
    "def log_loss(y_true, y_proba):\n",
    "    '''\n",
    "    Function to calculate log loss\n",
    "    '''\n",
    "    # define a epsilon value\n",
    "    epsilon = 1e-15\n",
    "    # initialize empty list to store\n",
    "    # individual losses\n",
    "    loss = []\n",
    "    for yt,yp in zip(y_true, y_proba):\n",
    "        yp = np.clip(yp, epsilon, 1-epsilon)\n",
    "        # calculate loss for one sample\n",
    "        # cross entropy\n",
    "        temp_loss = -1.0*(yt*np.log(yp)+(1-yt)*np.log(1-yp))\n",
    "        loss.append(temp_loss)\n",
    "\n",
    "    return np.mean(loss)\n",
    "\n",
    "y_true = [0, 0, 0, 0, 1, 0, 1, 0, 0, 1, 0, 1, 0, 0, 1]\n",
    "y_proba = [0.1, 0.3, 0.2, 0.6, 0.8, 0.05, 0.9, 0.5, 0.3, 0.66, 0.3, 0.2, 0.85, 0.15, 0.99]\n",
    "\n",
    "log_loss(y_true, y_proba)"
   ]
  },
  {
   "cell_type": "code",
   "execution_count": 9,
   "metadata": {},
   "outputs": [
    {
     "name": "stdout",
     "output_type": "stream",
     "text": [
      "wow, you did it!\n"
     ]
    }
   ],
   "source": [
    "# compare build in log loss and handmade\n",
    "from sklearn import metrics\n",
    "if(metrics.log_loss(y_true, y_proba)==log_loss(y_true, y_proba)):\n",
    "    print(\"wow, you did it!\")"
   ]
  },
  {
   "cell_type": "code",
   "execution_count": 18,
   "metadata": {},
   "outputs": [],
   "source": [
    "def macro_precision(y_true, y_pred):\n",
    "    num_class = len(np.unique(y_true))\n",
    "    precision_list = []\n",
    "\n",
    "    for c in range(num_class):\n",
    "        temp_true = [1 if i==c else 0 for i in y_true]\n",
    "        temp_pred = [1 if i==c else 0 for i in y_pred]\n",
    "\n",
    "        #tp = tp_hand(temp_true,temp_pred)\n",
    "        # precision = tp/(tp+fp)\n",
    "        precision_list.append(precision_hand(temp_true, temp_pred))\n",
    "\n",
    "    return np.mean(precision_list)\n",
    "\n",
    "def micro_precision(y_true, y_pred):\n",
    "    \n",
    "    tp = 0\n",
    "    fp = 0\n",
    "    num_class = len(np.unique(y_true))\n",
    "    for c in range(num_class):\n",
    "        temp_true = [1 if i==c else 0 for i in y_true]\n",
    "        temp_pred = [1 if i==c else 0 for i in y_pred]\n",
    "        \n",
    "        tp += tp_hand(temp_true, temp_pred)\n",
    "        fp += fp_hand(temp_true, temp_pred)\n",
    "\n",
    "    return tp/(tp+fp)\n",
    "        \n"
   ]
  },
  {
   "cell_type": "code",
   "execution_count": 19,
   "metadata": {},
   "outputs": [
    {
     "data": {
      "text/plain": [
       "0.4444444444444444"
      ]
     },
     "execution_count": 19,
     "metadata": {},
     "output_type": "execute_result"
    }
   ],
   "source": [
    "y_true = [0, 1, 2, 0, 1, 2, 0, 2, 2]\n",
    "y_pred = [0, 2, 1, 0, 2, 1, 0, 0, 2]\n",
    "macro_precision(y_true, y_pred)\n",
    "micro_precision(y_true, y_pred)"
   ]
  },
  {
   "cell_type": "code",
   "execution_count": 20,
   "metadata": {},
   "outputs": [
    {
     "name": "stdout",
     "output_type": "stream",
     "text": [
      "['A', 'B', 'C', 'D', 'A', 'B', 'D', 'A', 'B', 'C']\n"
     ]
    }
   ],
   "source": [
    "import random\n",
    "\n",
    "class MarkovChain:\n",
    "    def __init__(self):\n",
    "        self.transitions = {}\n",
    "\n",
    "    def add_transition(self, state1, state2):\n",
    "        if state1 not in self.transitions:\n",
    "            self.transitions[state1] = []\n",
    "        self.transitions[state1].append(state2)\n",
    "\n",
    "    def generate_sequence(self, start_state, length):\n",
    "        sequence = [start_state]\n",
    "        current_state = start_state\n",
    "        for _ in range(length - 1):\n",
    "            if current_state in self.transitions:\n",
    "                next_state = random.choice(self.transitions[current_state])\n",
    "                sequence.append(next_state)\n",
    "                current_state = next_state\n",
    "            else:\n",
    "                break\n",
    "        return sequence\n",
    "\n",
    "# Example usage\n",
    "mc = MarkovChain()\n",
    "mc.add_transition('A', 'B')\n",
    "mc.add_transition('B', 'C')\n",
    "mc.add_transition('B', 'D')\n",
    "mc.add_transition('C', 'D')\n",
    "mc.add_transition('D', 'A')\n",
    "\n",
    "start_state = 'A'\n",
    "sequence_length = 10\n",
    "generated_sequence = mc.generate_sequence(start_state, sequence_length)\n",
    "print(generated_sequence)"
   ]
  }
 ],
 "metadata": {
  "kernelspec": {
   "display_name": "ML",
   "language": "python",
   "name": "python3"
  },
  "language_info": {
   "codemirror_mode": {
    "name": "ipython",
    "version": 3
   },
   "file_extension": ".py",
   "mimetype": "text/x-python",
   "name": "python",
   "nbconvert_exporter": "python",
   "pygments_lexer": "ipython3",
   "version": "3.8.0"
  }
 },
 "nbformat": 4,
 "nbformat_minor": 2
}
